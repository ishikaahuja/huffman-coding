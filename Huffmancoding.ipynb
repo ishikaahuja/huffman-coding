{
  "nbformat": 4,
  "nbformat_minor": 0,
  "metadata": {
    "colab": {
      "provenance": []
    },
    "kernelspec": {
      "name": "python3",
      "display_name": "Python 3"
    },
    "language_info": {
      "name": "python"
    }
  },
  "cells": [
    {
      "cell_type": "code",
      "execution_count": null,
      "metadata": {
        "id": "PXb3Qxd8z_x1"
      },
      "outputs": [],
      "source": [
        "import heapq\n"
      ]
    },
    {
      "cell_type": "code",
      "source": [
        "\n",
        "class Node:\n",
        "    def __init__(self, symbol=None, frequency=None):\n",
        "        self.symbol = symbol\n",
        "        self.frequency = frequency\n",
        "        self.left = None\n",
        "        self.right = None\n",
        "\n",
        "    def __lt__(self, other):\n",
        "        return self.frequency < other.frequency"
      ],
      "metadata": {
        "id": "G2Ly1AHh0HN4"
      },
      "execution_count": null,
      "outputs": []
    },
    {
      "cell_type": "code",
      "source": [
        "def build_huffman_tree(chars, freq):\n",
        "\n",
        "    # Create a priority queue of nodes\n",
        "    priority_queue = [Node(char, f) for char, f in zip(chars, freq)]\n",
        "    heapq.heapify(priority_queue)\n",
        "\n",
        "    # Build the Huffman tree\n",
        "    while len(priority_queue) > 1:\n",
        "        left_child = heapq.heappop(priority_queue)\n",
        "        right_child = heapq.heappop(priority_queue)\n",
        "        merged_node = Node(frequency=left_child.frequency + right_child.frequency)\n",
        "        merged_node.left = left_child\n",
        "        merged_node.right = right_child\n",
        "        heapq.heappush(priority_queue, merged_node)\n",
        "\n",
        "    return priority_queue[0]\n",
        "\n"
      ],
      "metadata": {
        "id": "JnAltP1u0MEB"
      },
      "execution_count": null,
      "outputs": []
    },
    {
      "cell_type": "code",
      "source": [
        "\n",
        "def generate_huffman_codes(node, code=\"\", huffman_codes={}):\n",
        "\n",
        "    if node is not None:\n",
        "        if node.symbol is not None:\n",
        "            huffman_codes[node.symbol] = code\n",
        "        generate_huffman_codes(node.left, code + \"0\", huffman_codes)\n",
        "        generate_huffman_codes(node.right, code + \"1\", huffman_codes)\n",
        "\n",
        "    return huffman_codes"
      ],
      "metadata": {
        "id": "PpGLhoL20U9z"
      },
      "execution_count": null,
      "outputs": []
    },
    {
      "cell_type": "code",
      "source": [
        "\n",
        "def test_huffman_coding():\n",
        "  chars = ['a', 'b', 'c', 'd']\n",
        "  freq = [2, 3, 7, 4]\n",
        "  root = build_huffman_tree(chars, freq)\n",
        "  codes = generate_huffman_codes(root)\n",
        "  print(\"Huffman codes:\", codes)"
      ],
      "metadata": {
        "id": "NfAf5PkZ0YdN"
      },
      "execution_count": null,
      "outputs": []
    },
    {
      "cell_type": "code",
      "source": [
        "test_huffman_coding()\n"
      ],
      "metadata": {
        "colab": {
          "base_uri": "https://localhost:8080/"
        },
        "id": "9mRs8pla0gbO",
        "outputId": "da205613-25a5-497f-9bca-46cecc3a7e11"
      },
      "execution_count": null,
      "outputs": [
        {
          "output_type": "stream",
          "name": "stdout",
          "text": [
            "Huffman codes: {'c': '0', 'd': '10', 'a': '110', 'b': '111'}\n"
          ]
        }
      ]
    }
  ]
}